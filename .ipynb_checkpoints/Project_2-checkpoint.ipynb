{
 "cells": [
  {
   "cell_type": "code",
   "execution_count": 297,
   "metadata": {},
   "outputs": [],
   "source": [
    "# Import Splinter and BeautifulSoup\n",
    "from splinter import Browser\n",
    "from bs4 import BeautifulSoup\n",
    "import requests\n",
    "import urllib.parse\n",
    "import pymongo\n",
    "import pprint\n",
    "import pandas as pd"
   ]
  },
  {
   "cell_type": "code",
   "execution_count": 302,
   "metadata": {},
   "outputs": [
    {
     "name": "stdout",
     "output_type": "stream",
     "text": [
      "200\n"
     ]
    }
   ],
   "source": [
    "url = 'https://www.marketwatch.com/tools/screener?exchange=Nasdaq&report=MostActive'\n",
    "response = requests.get(url)\n",
    "print(response.status_code)"
   ]
  },
  {
   "cell_type": "code",
   "execution_count": 303,
   "metadata": {},
   "outputs": [
    {
     "name": "stdout",
     "output_type": "stream",
     "text": [
      "bottomborder\n"
     ]
    }
   ],
   "source": [
    "searchterm = urllib.parse.quote('bottomborder')\n",
    "print(searchterm)"
   ]
  },
  {
   "cell_type": "code",
   "execution_count": 300,
   "metadata": {},
   "outputs": [],
   "source": [
    "# SCRAPING \n",
    "# Set the executable path and initialize the chrome browser in splinter\n",
    "executable_path = {\"executable_path\":\"chromedriver.exe\"}\n",
    "browser = Browser(\"chrome\", **executable_path, headless=False)\n",
    "browser.visit(\"https://www.marketwatch.com/tools/screener?exchange=Nasdaq&report=MostActive\")"
   ]
  },
  {
   "cell_type": "code",
   "execution_count": 304,
   "metadata": {},
   "outputs": [],
   "source": [
    "# Convert the browser html to a soup object \n",
    "soup = browser.html\n",
    "stock_soup = BeautifulSoup(soup, 'html.parser')"
   ]
  },
  {
   "cell_type": "code",
   "execution_count": 52,
   "metadata": {},
   "outputs": [],
   "source": [
    "#print(stock_soup.prettify())"
   ]
  },
  {
   "cell_type": "code",
   "execution_count": 306,
   "metadata": {},
   "outputs": [
    {
     "name": "stdout",
     "output_type": "stream",
     "text": [
      "AAPL\n"
     ]
    }
   ],
   "source": [
    "Ticker_symbol = stock_soup.find(\"td\", class_= \"bottomborder\").text\n",
    "print(Ticker_symbol)"
   ]
  },
  {
   "cell_type": "code",
   "execution_count": 311,
   "metadata": {},
   "outputs": [
    {
     "name": "stdout",
     "output_type": "stream",
     "text": [
      "279.44\n"
     ]
    }
   ],
   "source": [
    "Ticker_name = stock_soup.find(\"td\", class_= \"aright bottomborder\").text\n",
    "print(Ticker_name)"
   ]
  },
  {
   "cell_type": "code",
   "execution_count": 312,
   "metadata": {},
   "outputs": [
    {
     "name": "stdout",
     "output_type": "stream",
     "text": [
      "279.44\n"
     ]
    }
   ],
   "source": [
    "Ticker_vol = stock_soup.find(\"td\", class_= \"aright bottomborder\").text\n",
    "print(Ticker_vol)"
   ]
  },
  {
   "cell_type": "code",
   "execution_count": 307,
   "metadata": {},
   "outputs": [
    {
     "name": "stdout",
     "output_type": "stream",
     "text": [
      "['/', '/latest-news', '/markets', '/investing', '/personal-finance', '/retirement', '/economy-politics', '/real-estate', '/entertainment', '/watchlist', '/tools/alerts/myalertsummary.asp', '/game', '/investing/Stock/AAPL', '/investing/Stock/AMD', '/investing/Stock/INPX', '/investing/Stock/MSFT', '/investing/Stock/CSCO', '/investing/Stock/INTC', '/investing/Stock/MU', '/investing/Stock/CMCSA', '/investing/Stock/UNIT', '/investing/Stock/SIRI', '/investing/Stock/CRZO', '/investing/Stock/NLOK', '/investing/Stock/QQQ', '/investing/Stock/FB', '/investing/Stock/TRIP', '/investing/Stock/FTR', '/investing/Stock/FCEL', '/investing/Stock/GILD', '/investing/Stock/ZNGA', '/investing/Stock/MYL', '/investing/Stock/ARWR', '/investing/Stock/MRNS', '/investing/Stock/HBAN', '/investing/Stock/ODP', '/investing/Stock/QCOM', '#', '/story/jeff-flake-says-35-senate-republicans-would-vote-to-convict-trump-if-impeachment-featured-a-secret-ballot-2019-09-27?mod=MW_section_top_stories', '/story/if-you-buy-into-warren-buffetts-advice-to-be-fearful-when-others-are-greedy-then-get-ready-to-be-full-of-fear-2019-12-19?mod=MW_section_top_stories', '/story/brace-for-a-nasty-stock-market-shock-fairly-early-in-2020-2019-12-19?mod=MW_section_top_stories', '/story/heres-how-the-dow-and-sp-500-perform-in-years-after-they-ring-up-gains-of-20-2019-12-19?mod=MW_section_top_stories', '/story/rental-properties-are-a-terrible-investment-according-to-robo-adviser-with-20-billion-in-assets-under-management-2019-12-19?mod=MW_section_top_stories', 'https://accounts.marketwatch.com/login?ifr=1&target=https%3A%2F%2Fwww.marketwatch.com%2Ftools%2Fscreener%3Fexchange%3DNasdaq%26report%3DMostActive', '/', 'https://www.marketwatch.com/latest-news', 'https://www.marketwatch.com', 'https://www.marketwatch.com', 'https://www.marketwatch.com/latest-news', '/story/these-10-sp-500-stocks-were-lousy-in-2019-but-they-could-return-40-or-more-in-2020-2019-12-21-1710308?link=MW_latest_news', '/story/these-10-sp-500-stocks-were-lousy-in-2019-but-they-could-return-40-or-more-in-2020-2019-12-20?link=MW_latest_news', '/story/meet-the-boston-mom-who-makes-400-an-hour-eating-cannoli-with-strangers-2019-12-11?link=MW_latest_news', '/story/this-wealth-manager-picked-a-home-run-stock-in-2019-heres-what-he-likes-for-2020-2019-12-03?link=MW_latest_news', '/story/top-stock-picks-for-2020-the-best-of-the-biggest-2019-12-10?link=MW_latest_news', '/story/these-are-the-20-best-performing-stocks-of-the-past-decade-and-some-of-them-will-surprise-you-2019-12-09?link=MW_latest_news', '/story/my-father-died-from-a-heart-attack-2-weeks-after-his-wedding-how-much-should-i-give-my-stepmother-from-his-estate-2019-12-10?link=MW_latest_news', '/story/i-cared-for-my-mother-who-passed-away-from-alzheimers-can-i-take-the-70000-in-her-bank-account-instead-of-my-unhelpful-brother-2019-12-11?link=MW_latest_news', '/story/if-you-buy-into-warren-buffetts-advice-to-be-fearful-when-others-are-greedy-then-get-ready-to-be-full-of-fear-2019-12-19?link=MW_latest_news', '/story/heres-how-the-dow-and-sp-500-perform-in-years-after-they-ring-up-gains-of-20-2019-12-19?link=MW_latest_news', '/story/these-housing-markets-will-feel-the-biggest-impact-from-the-silver-tsunami-2019-12-02?link=MW_latest_news', '/story/rental-properties-are-a-terrible-investment-according-to-robo-adviser-with-20-billion-in-assets-under-management-2019-12-19?link=MW_latest_news', '/story/im-56-and-unemployed-but-have-100000-to-live-off-until-i-find-a-job-where-should-i-put-this-money-2019-12-06?link=MW_latest_news', '/story/its-not-fair-after-3-years-of-marriage-ill-only-inherit-10-of-my-husbands-2m-estate-and-the-right-to-live-in-his-home-2019-12-09?link=MW_latest_news', '/story/this-depressing-chart-shows-the-jaw-dropping-wealth-gap-between-millennials-and-boomers-2019-12-04?link=MW_latest_news', '/story/this-90-year-old-man-with-a-phd-in-economics-made-a-new-will-10-days-before-he-died-and-it-voided-his-prenup-2019-12-08?link=MW_latest_news', '/story/buttigieg-leads-2020-rivals-in-wall-street-contributions-2019-12-21?link=MW_latest_news', '/story/with-president-trumps-signature-the-secure-act-is-passed-here-are-the-most-important-things-to-know-2019-12-21?link=MW_latest_news', '/story/dont-let-these-myths-ruin-your-dream-of-retiring-abroad-2019-12-17?link=MW_latest_news', '/story/the-real-cable-news-bias-isnt-what-you-think-2019-12-17?link=MW_latest_news', '/investing/index/djia', '/investing/index/comp', '/investing/index/spx', '#', '#', '#', 'https://www.marketwatch.com/tools/alerts/newsBulletin.asp', 'https://www.marketwatch.com/game', 'https://www.marketwatch.com/game', 'https://www.marketwatch.com/game/', 'https://www.barrons.com/articles/abbvie-cancer-drug-faces-j-j-competition-51576851814?link=TD_marketwatch_home_page.83461b39d1bfc251&utm_source=marketwatch_home_page.83461b39d1bfc251&utm_campaign=circular&utm_medium=BARRONS', 'https://www.barrons.com/articles/abbvie-cancer-drug-faces-j-j-competition-51576851814?link=TD_marketwatch_home_page.83461b39d1bfc251&utm_source=marketwatch_home_page.83461b39d1bfc251&utm_campaign=circular&utm_medium=BARRONS', 'http://www.barrons.com?link=TD_marketwatch_home_page.83461b39d1bfc251&utm_source=marketwatch_home_page.83461b39d1bfc251&utm_campaign=circular&utm_medium=BARRONS', 'https://www.barrons.com/articles/how-the-dow-and-s-p-500-perform-in-years-after-they-ring-up-gains-of-20-51576802721?link=TD_marketwatch_home_page.83461b39d1bfc251&utm_source=marketwatch_home_page.83461b39d1bfc251&utm_campaign=circular&utm_medium=BARRONS', 'https://www.barrons.com/articles/how-the-dow-and-s-p-500-perform-in-years-after-they-ring-up-gains-of-20-51576802721?link=TD_marketwatch_home_page.83461b39d1bfc251&utm_source=marketwatch_home_page.83461b39d1bfc251&utm_campaign=circular&utm_medium=BARRONS', 'http://www.barrons.com?link=TD_marketwatch_home_page.83461b39d1bfc251&utm_source=marketwatch_home_page.83461b39d1bfc251&utm_campaign=circular&utm_medium=BARRONS', 'https://nypost.com/2019/12/15/teacher-tells-students-to-boycott-beacon-hs-after-white-girl-accused-of-racism/?link=TD_marketwatch_home_page.83461b39d1bfc251&utm_source=marketwatch_home_page.83461b39d1bfc251&utm_campaign=circular&utm_medium=NYPOST', 'https://nypost.com/2019/12/15/teacher-tells-students-to-boycott-beacon-hs-after-white-girl-accused-of-racism/?link=TD_marketwatch_home_page.83461b39d1bfc251&utm_source=marketwatch_home_page.83461b39d1bfc251&utm_campaign=circular&utm_medium=NYPOST', 'http://nypost.com?link=TD_marketwatch_home_page.83461b39d1bfc251&utm_source=marketwatch_home_page.83461b39d1bfc251&utm_campaign=circular&utm_medium=NYPOST', 'https://www.barrons.com/articles/cisco-stock-new-product-cycles-51576775032?link=TD_marketwatch_home_page.83461b39d1bfc251&utm_source=marketwatch_home_page.83461b39d1bfc251&utm_campaign=circular&utm_medium=BARRONS', 'https://www.barrons.com/articles/cisco-stock-new-product-cycles-51576775032?link=TD_marketwatch_home_page.83461b39d1bfc251&utm_source=marketwatch_home_page.83461b39d1bfc251&utm_campaign=circular&utm_medium=BARRONS', 'http://www.barrons.com?link=TD_marketwatch_home_page.83461b39d1bfc251&utm_source=marketwatch_home_page.83461b39d1bfc251&utm_campaign=circular&utm_medium=BARRONS', '/site-index', '/Topics', '/help', '/support/feedback.asp', '/newsroom/roster', 'https://www.marketwatch.com/video', '/premium-newsletters?link=djmc_footer_multi', '/mobile', '/companyinfo', 'http://www.dowjones.com/code-conduct/', '/column/corrections', 'http://dowjonesonline.com/', 'http://www.wsjlocal.com/', 'http://www.djreprints.com/', 'https://www.dowjones.com/cookies-policy/#cookies-advertising', 'https://www.facebook.com/MarketWatch', 'https://twitter.com/MarketWatch', 'https://www.linkedin.com/company/marketwatch', 'https://plus.google.com/+MarketWatch', '/rss', '/podcast', 'http://www.wsj.com', 'http://online.barrons.com/home-page', 'http://www.bigcharts.com/', 'https://www.marketwatch.com/game/', 'https://www.fnlondon.com', 'http://guides.wsj.com/small-business/', 'https://www.realtor.com/', 'https://www.mansionglobal.com/', '/support/disclaimer.asp', 'https://www.dowjones.com/privacy-policy/?mod=MW', 'https://www.dowjones.com/cookies-policy/?mod=MW', 'https://www.dowjones.com/notice-ca-residents/?mod=MW', 'https://www.factset.com/', 'https://www.marketwatch.com/support/investing-terms-of-use', 'https://www.factset.com/', 'http://ie8.smoothfusion.com/MarketWatch/view.aspx', 'https://www.marketwatch.com', None, None, None, None]\n"
     ]
    }
   ],
   "source": [
    "# Ticker_name = [l.get('href') for l in stock_soup.find_all('a')]\n",
    "# print(Ticker_name)\n",
    "# # #print(Ticker_name)"
   ]
  },
  {
   "cell_type": "code",
   "execution_count": 310,
   "metadata": {},
   "outputs": [],
   "source": [
    "# for t in Ticker_name:\n",
    "#     print(t)"
   ]
  },
  {
   "cell_type": "code",
   "execution_count": 314,
   "metadata": {},
   "outputs": [
    {
     "name": "stdout",
     "output_type": "stream",
     "text": [
      "[<td class=\"bottomborder\"><a href=\"/investing/Stock/AAPL\">AAPL</a></td>, <td class=\"bottomborder\">Apple Inc.</td>, <td class=\"aright bottomborder\">279.44</td>, <td class=\"aright bottomborder negative\">-0.58</td>, <td class=\"aright bottomborder negative\">-0.21%</td>, <td class=\"aright bottomborder\">69.03M</td>, <td class=\"aright bottomborder\">19.29B</td>, <td class=\"bottomborder\"><a href=\"/investing/Stock/AMD\">AMD</a></td>, <td class=\"bottomborder\">Advanced Micro Devices Inc.</td>, <td class=\"aright bottomborder\">44.15</td>, <td class=\"aright bottomborder positive\">+1.32</td>, <td class=\"aright bottomborder positive\">+3.08%</td>, <td class=\"aright bottomborder\">68.22M</td>, <td class=\"aright bottomborder\">3.01B</td>, <td class=\"bottomborder\"><a href=\"/investing/Stock/INPX\">INPX</a></td>, <td class=\"bottomborder\">Inpixon</td>, <td class=\"aright bottomborder\">0.08</td>, <td class=\"aright bottomborder negative\">-0.0030</td>, <td class=\"aright bottomborder negative\">-3.49%</td>, <td class=\"aright bottomborder\">63.06M</td>, <td class=\"aright bottomborder\">5.23M</td>, <td class=\"bottomborder\"><a href=\"/investing/Stock/MSFT\">MSFT</a></td>, <td class=\"bottomborder\">Microsoft Corp.</td>, <td class=\"aright bottomborder\">157.41</td>, <td class=\"aright bottomborder positive\">+1.70</td>, <td class=\"aright bottomborder positive\">+1.09%</td>, <td class=\"aright bottomborder\">53.60M</td>, <td class=\"aright bottomborder\">8.44B</td>, <td class=\"bottomborder\"><a href=\"/investing/Stock/CSCO\">CSCO</a></td>, <td class=\"bottomborder\">Cisco Systems Inc.</td>, <td class=\"aright bottomborder\">47.45</td>, <td class=\"aright bottomborder negative\">-0.43</td>, <td class=\"aright bottomborder negative\">-0.90%</td>, <td class=\"aright bottomborder\">52.58M</td>, <td class=\"aright bottomborder\">2.50B</td>, <td class=\"bottomborder\"><a href=\"/investing/Stock/INTC\">INTC</a></td>, <td class=\"bottomborder\">Intel Corp.</td>, <td class=\"aright bottomborder\">58.95</td>, <td class=\"aright bottomborder positive\">+0.99</td>, <td class=\"aright bottomborder positive\">+1.71%</td>, <td class=\"aright bottomborder\">49.97M</td>, <td class=\"aright bottomborder\">2.95B</td>, <td class=\"bottomborder\"><a href=\"/investing/Stock/MU\">MU</a></td>, <td class=\"bottomborder\">Micron Technology Inc.</td>, <td class=\"aright bottomborder\">55.06</td>, <td class=\"aright bottomborder positive\">+0.53</td>, <td class=\"aright bottomborder positive\">+0.97%</td>, <td class=\"aright bottomborder\">44.37M</td>, <td class=\"aright bottomborder\">2.44B</td>, <td class=\"bottomborder\"><a href=\"/investing/Stock/CMCSA\">CMCSA</a></td>, <td class=\"bottomborder\">Comcast Corp. Cl A</td>, <td class=\"aright bottomborder\">44.09</td>, <td class=\"aright bottomborder positive\">+0.45</td>, <td class=\"aright bottomborder positive\">+1.03%</td>, <td class=\"aright bottomborder\">41.42M</td>, <td class=\"aright bottomborder\">1.83B</td>, <td class=\"bottomborder\"><a href=\"/investing/Stock/UNIT\">UNIT</a></td>, <td class=\"bottomborder\">Uniti Group Inc.</td>, <td class=\"aright bottomborder\">8.25</td>, <td class=\"aright bottomborder\">0.00</td>, <td class=\"aright bottomborder\">0.00%</td>, <td class=\"aright bottomborder\">40.14M</td>, <td class=\"aright bottomborder\">331.18M</td>, <td class=\"bottomborder\"><a href=\"/investing/Stock/SIRI\">SIRI</a></td>, <td class=\"bottomborder\">Sirius XM Holdings Inc.</td>, <td class=\"aright bottomborder\">7.18</td>, <td class=\"aright bottomborder positive\">+0.10</td>, <td class=\"aright bottomborder positive\">+1.41%</td>, <td class=\"aright bottomborder\">35.86M</td>, <td class=\"aright bottomborder\">257.45M</td>, <td class=\"bottomborder\"><a href=\"/investing/Stock/CRZO\">CRZO</a></td>, <td class=\"bottomborder\">Carrizo Oil &amp; Gas Inc.</td>, <td class=\"aright bottomborder\">7.83</td>, <td class=\"aright bottomborder negative\">-0.42</td>, <td class=\"aright bottomborder negative\">-5.09%</td>, <td class=\"aright bottomborder\">30.96M</td>, <td class=\"aright bottomborder\">242.44M</td>, <td class=\"bottomborder\"><a href=\"/investing/Stock/NLOK\">NLOK</a></td>, <td class=\"bottomborder\">NortonLifeLock Inc.</td>, <td class=\"aright bottomborder\">25.51</td>, <td class=\"aright bottomborder negative\">-0.51</td>, <td class=\"aright bottomborder negative\">-1.96%</td>, <td class=\"aright bottomborder\">30.39M</td>, <td class=\"aright bottomborder\">775.23M</td>, <td class=\"bottomborder\"><a href=\"/investing/Stock/QQQ\">QQQ</a></td>, <td class=\"bottomborder\">Invesco QQQ Trust Series I</td>, <td class=\"aright bottomborder\">211.71</td>, <td class=\"aright bottomborder positive\">+0.85</td>, <td class=\"aright bottomborder positive\">+0.40%</td>, <td class=\"aright bottomborder\">27.69M</td>, <td class=\"aright bottomborder\">5.86B</td>, <td class=\"bottomborder\"><a href=\"/investing/Stock/FB\">FB</a></td>, <td class=\"bottomborder\">Facebook Inc. Cl A</td>, <td class=\"aright bottomborder\">206.30</td>, <td class=\"aright bottomborder positive\">+0.24</td>, <td class=\"aright bottomborder positive\">+0.12%</td>, <td class=\"aright bottomborder\">27.32M</td>, <td class=\"aright bottomborder\">5.64B</td>, <td class=\"bottomborder\"><a href=\"/investing/Stock/TRIP\">TRIP</a></td>, <td class=\"bottomborder\">TripAdvisor Inc.</td>, <td class=\"aright bottomborder\">30.06</td>, <td class=\"aright bottomborder negative\">-0.28</td>, <td class=\"aright bottomborder negative\">-0.92%</td>, <td class=\"aright bottomborder\">25.28M</td>, <td class=\"aright bottomborder\">760.06M</td>, <td class=\"bottomborder\"><a href=\"/investing/Stock/FTR\">FTR</a></td>, <td class=\"bottomborder\">Frontier Communications Corp.</td>, <td class=\"aright bottomborder\">0.63</td>, <td class=\"aright bottomborder negative\">-0.0037</td>, <td class=\"aright bottomborder negative\">-0.58%</td>, <td class=\"aright bottomborder\">24.47M</td>, <td class=\"aright bottomborder\">15.49M</td>, <td class=\"bottomborder\"><a href=\"/investing/Stock/FCEL\">FCEL</a></td>, <td class=\"bottomborder\">FuelCell Energy Inc.</td>, <td class=\"aright bottomborder\">0.78</td>, <td class=\"aright bottomborder positive\">+0.09</td>, <td class=\"aright bottomborder positive\">+13.62%</td>, <td class=\"aright bottomborder\">23.63M</td>, <td class=\"aright bottomborder\">18.45M</td>, <td class=\"bottomborder\"><a href=\"/investing/Stock/GILD\">GILD</a></td>, <td class=\"bottomborder\">Gilead Sciences Inc.</td>, <td class=\"aright bottomborder\">66.85</td>, <td class=\"aright bottomborder positive\">+1.56</td>, <td class=\"aright bottomborder positive\">+2.39%</td>, <td class=\"aright bottomborder\">23.45M</td>, <td class=\"aright bottomborder\">1.57B</td>, <td class=\"bottomborder\"><a href=\"/investing/Stock/ZNGA\">ZNGA</a></td>, <td class=\"bottomborder\">Zynga Inc. Cl A</td>, <td class=\"aright bottomborder\">6.26</td>, <td class=\"aright bottomborder negative\">-0.02</td>, <td class=\"aright bottomborder negative\">-0.32%</td>, <td class=\"aright bottomborder\">23.02M</td>, <td class=\"aright bottomborder\">144.11M</td>, <td class=\"bottomborder\"><a href=\"/investing/Stock/MYL\">MYL</a></td>, <td class=\"bottomborder\">Mylan N.V.</td>, <td class=\"aright bottomborder\">19.79</td>, <td class=\"aright bottomborder positive\">+0.41</td>, <td class=\"aright bottomborder positive\">+2.12%</td>, <td class=\"aright bottomborder\">21.99M</td>, <td class=\"aright bottomborder\">435.13M</td>, <td class=\"bottomborder\"><a href=\"/investing/Stock/ARWR\">ARWR</a></td>, <td class=\"bottomborder\">Arrowhead Pharmaceuticals Corp.</td>, <td class=\"aright bottomborder\">63.49</td>, <td class=\"aright bottomborder negative\">-4.19</td>, <td class=\"aright bottomborder negative\">-6.19%</td>, <td class=\"aright bottomborder\">19.63M</td>, <td class=\"aright bottomborder\">1.25B</td>, <td class=\"bottomborder\"><a href=\"/investing/Stock/MRNS\">MRNS</a></td>, <td class=\"bottomborder\">Marinus Pharmaceuticals Inc.</td>, <td class=\"aright bottomborder\">2.17</td>, <td class=\"aright bottomborder positive\">+0.67</td>, <td class=\"aright bottomborder positive\">+44.67%</td>, <td class=\"aright bottomborder\">19.03M</td>, <td class=\"aright bottomborder\">41.29M</td>, <td class=\"bottomborder\"><a href=\"/investing/Stock/HBAN\">HBAN</a></td>, <td class=\"bottomborder\">Huntington Bancshares Inc.</td>, <td class=\"aright bottomborder\">15.15</td>, <td class=\"aright bottomborder negative\">-0.01</td>, <td class=\"aright bottomborder negative\">-0.07%</td>, <td class=\"aright bottomborder\">18.44M</td>, <td class=\"aright bottomborder\">279.40M</td>, <td class=\"bottomborder\"><a href=\"/investing/Stock/ODP\">ODP</a></td>, <td class=\"bottomborder\">Office Depot Inc.</td>, <td class=\"aright bottomborder\">2.46</td>, <td class=\"aright bottomborder negative\">-0.19</td>, <td class=\"aright bottomborder negative\">-7.17%</td>, <td class=\"aright bottomborder\">17.73M</td>, <td class=\"aright bottomborder\">43.61M</td>, <td class=\"bottomborder\"><a href=\"/investing/Stock/QCOM\">QCOM</a></td>, <td class=\"bottomborder\">Qualcomm Inc.</td>, <td class=\"aright bottomborder\">88.85</td>, <td class=\"aright bottomborder positive\">+0.36</td>, <td class=\"aright bottomborder positive\">+0.41%</td>, <td class=\"aright bottomborder\">17.59M</td>, <td class=\"aright bottomborder\">1.56B</td>]\n"
     ]
    }
   ],
   "source": [
    "stock_price = stock_soup.find_all(\"td\", class_= \"bottomborder\")\n",
    "print(stock_price)"
   ]
  },
  {
   "cell_type": "code",
   "execution_count": 315,
   "metadata": {},
   "outputs": [
    {
     "name": "stdout",
     "output_type": "stream",
     "text": [
      "Southwestern Energy Co. (SWN)\n"
     ]
    }
   ],
   "source": [
    "# stock_ = stock_soup.find('td', class_='aright bottomborder')\n",
    "# print(stock_change)    "
   ]
  },
  {
   "cell_type": "code",
   "execution_count": 323,
   "metadata": {},
   "outputs": [
    {
     "ename": "IndexError",
     "evalue": "list index out of range",
     "output_type": "error",
     "traceback": [
      "\u001b[1;31m---------------------------------------------------------------------------\u001b[0m",
      "\u001b[1;31mIndexError\u001b[0m                                Traceback (most recent call last)",
      "\u001b[1;32m<ipython-input-323-dd1e7e1c9b0f>\u001b[0m in \u001b[0;36m<module>\u001b[1;34m\u001b[0m\n\u001b[0;32m      1\u001b[0m \u001b[1;32mfor\u001b[0m \u001b[0mstock\u001b[0m \u001b[1;32min\u001b[0m \u001b[0mstock_price\u001b[0m\u001b[1;33m:\u001b[0m\u001b[1;33m\u001b[0m\u001b[1;33m\u001b[0m\u001b[0m\n\u001b[0;32m      2\u001b[0m     \u001b[1;31m#print(stock)\u001b[0m\u001b[1;33m\u001b[0m\u001b[1;33m\u001b[0m\u001b[1;33m\u001b[0m\u001b[0m\n\u001b[1;32m----> 3\u001b[1;33m     \u001b[0mprint\u001b[0m\u001b[1;33m(\u001b[0m\u001b[0mstock\u001b[0m\u001b[1;33m.\u001b[0m\u001b[0mcontents\u001b[0m\u001b[1;33m[\u001b[0m\u001b[1;36m2\u001b[0m\u001b[1;33m]\u001b[0m\u001b[1;33m)\u001b[0m\u001b[1;33m\u001b[0m\u001b[1;33m\u001b[0m\u001b[0m\n\u001b[0m",
      "\u001b[1;31mIndexError\u001b[0m: list index out of range"
     ]
    }
   ],
   "source": [
    "for stock in stock_price:\n",
    "    #print(stock)\n",
    "    print(stock.contents[2])"
   ]
  },
  {
   "cell_type": "code",
   "execution_count": 176,
   "metadata": {},
   "outputs": [],
   "source": [
    "# for s in stock_volume:\n",
    "#     #print(stock)\n",
    "#     print(s.contents[0])"
   ]
  },
  {
   "cell_type": "code",
   "execution_count": 268,
   "metadata": {},
   "outputs": [
    {
     "name": "stdout",
     "output_type": "stream",
     "text": [
      "Southwestern Energy Co. (SWN)\n"
     ]
    }
   ],
   "source": [
    "permalink = stock_soup.find('td', attrs={'class':'WSJTables--table__cell--2dzGiO7q WSJTables--is-first--2Jt1dPu7'}).text\n",
    "print(permalink)"
   ]
  },
  {
   "cell_type": "code",
   "execution_count": null,
   "metadata": {},
   "outputs": [],
   "source": []
  }
 ],
 "metadata": {
  "kernelspec": {
   "display_name": "Python 3",
   "language": "python",
   "name": "python3"
  },
  "language_info": {
   "codemirror_mode": {
    "name": "ipython",
    "version": 3
   },
   "file_extension": ".py",
   "mimetype": "text/x-python",
   "name": "python",
   "nbconvert_exporter": "python",
   "pygments_lexer": "ipython3",
   "version": "3.7.3"
  }
 },
 "nbformat": 4,
 "nbformat_minor": 4
}
