{
 "cells": [
  {
   "cell_type": "code",
   "execution_count": 1,
   "metadata": {},
   "outputs": [],
   "source": [
    "# Import Splinter and BeautifulSoup\n",
    "from splinter import Browser\n",
    "from bs4 import BeautifulSoup\n",
    "import requests\n",
    "import urllib.parse\n",
    "import pymongo\n",
    "import pprint\n",
    "import pandas as pd"
   ]
  },
  {
   "cell_type": "code",
   "execution_count": 2,
   "metadata": {},
   "outputs": [],
   "source": [
    "# Initialize PyMongo to work with MongoDBs\n",
    "conn = 'mongodb://localhost:27017'\n",
    "client = pymongo.MongoClient(conn)"
   ]
  },
  {
   "cell_type": "code",
   "execution_count": 3,
   "metadata": {},
   "outputs": [],
   "source": [
    "# Define database and collection\n",
    "db = client.stocks\n",
    "collection = db.small_cap"
   ]
  },
  {
   "cell_type": "code",
   "execution_count": 4,
   "metadata": {},
   "outputs": [
    {
     "name": "stdout",
     "output_type": "stream",
     "text": [
      "403\n"
     ]
    }
   ],
   "source": [
    "url = 'https://www.barchart.com/stocks/most-active/price-volume-leaders?screener=small_cap'\n",
    "response = requests.get(url)\n",
    "print(response.status_code)"
   ]
  },
  {
   "cell_type": "code",
   "execution_count": 5,
   "metadata": {},
   "outputs": [],
   "source": [
    "# searchterm = urllib.parse.quote('left bold plusIconTd elp')\n",
    "# print(searchterm)"
   ]
  },
  {
   "cell_type": "code",
   "execution_count": 6,
   "metadata": {},
   "outputs": [],
   "source": [
    "# SCRAPING \n",
    "# Set the executable path and initialize the chrome browser in splinter\n",
    "executable_path = {\"executable_path\":\"chromedriver.exe\"}\n",
    "browser = Browser(\"chrome\", **executable_path, headless=False)\n",
    "browser.visit(\"https://www.barchart.com/stocks/most-active/price-volume-leaders?screener=small_cap\")"
   ]
  },
  {
   "cell_type": "code",
   "execution_count": 7,
   "metadata": {},
   "outputs": [],
   "source": [
    "# Convert the browser html to a soup object \n",
    "soup = browser.html\n",
    "stock_soup = BeautifulSoup(soup, 'html.parser')"
   ]
  },
  {
   "cell_type": "code",
   "execution_count": 8,
   "metadata": {},
   "outputs": [],
   "source": [
    "#print(stock_soup.prettify())"
   ]
  },
  {
   "cell_type": "code",
   "execution_count": 9,
   "metadata": {},
   "outputs": [
    {
     "ename": "AttributeError",
     "evalue": "'NoneType' object has no attribute 'text'",
     "output_type": "error",
     "traceback": [
      "\u001b[1;31m---------------------------------------------------------------------------\u001b[0m",
      "\u001b[1;31mAttributeError\u001b[0m                            Traceback (most recent call last)",
      "\u001b[1;32m<ipython-input-9-72dd9a94319a>\u001b[0m in \u001b[0;36m<module>\u001b[1;34m\u001b[0m\n\u001b[1;32m----> 1\u001b[1;33m \u001b[0mstock_symbol\u001b[0m \u001b[1;33m=\u001b[0m \u001b[0mstock_soup\u001b[0m\u001b[1;33m.\u001b[0m\u001b[0mfind\u001b[0m\u001b[1;33m(\u001b[0m\u001b[1;34m\"td\"\u001b[0m\u001b[1;33m,\u001b[0m \u001b[0mclass_\u001b[0m\u001b[1;33m=\u001b[0m \u001b[1;34m\"symbol text-left\"\u001b[0m\u001b[1;33m)\u001b[0m\u001b[1;33m.\u001b[0m\u001b[0mtext\u001b[0m\u001b[1;33m\u001b[0m\u001b[1;33m\u001b[0m\u001b[0m\n\u001b[0m\u001b[0;32m      2\u001b[0m \u001b[0mprint\u001b[0m\u001b[1;33m(\u001b[0m\u001b[0mstock_symbol\u001b[0m\u001b[1;33m)\u001b[0m\u001b[1;33m\u001b[0m\u001b[1;33m\u001b[0m\u001b[0m\n",
      "\u001b[1;31mAttributeError\u001b[0m: 'NoneType' object has no attribute 'text'"
     ]
    }
   ],
   "source": [
    "stock_symbol = stock_soup.find(\"td\", class_= \"symbol text-left\").text\n",
    "print(stock_symbol)"
   ]
  },
  {
   "cell_type": "code",
   "execution_count": null,
   "metadata": {},
   "outputs": [],
   "source": [
    "stock_name = stock_soup.find(\"td\", class_= \"symbolName text-left\").text\n",
    "print(stock_name)"
   ]
  },
  {
   "cell_type": "code",
   "execution_count": null,
   "metadata": {},
   "outputs": [],
   "source": [
    "stock_price = stock_soup.find(\"td\", class_= \"lastPrice\").text\n",
    "print(stock_price)"
   ]
  },
  {
   "cell_type": "code",
   "execution_count": null,
   "metadata": {},
   "outputs": [],
   "source": [
    "stock_volume = stock_soup.find(\"td\", class_= \"volume\").text\n",
    "print(stock_volume)"
   ]
  },
  {
   "cell_type": "code",
   "execution_count": null,
   "metadata": {},
   "outputs": [],
   "source": [
    "stock_change = stock_soup.find(\"td\", class_= \"percentChange up\").text\n",
    "print(stock_change)"
   ]
  },
  {
   "cell_type": "code",
   "execution_count": null,
   "metadata": {},
   "outputs": [],
   "source": [
    "stock_symbol_all = stock_soup.find_all(\"td\", class_= \"symbol text-left\")\n",
    "stock_name_all = stock_soup.find_all(\"td\", class_= \"symbolName text-left\")\n",
    "stock_price_all = stock_soup.find_all(\"td\", class_= \"lastPrice\")\n",
    "stock_volume_all = stock_soup.find_all(\"td\", class_= \"volume\")\n",
    "stock_change_all = stock_soup.find_all(\"td\", class_= \"percentChange up\")\n",
    "\n",
    "# print(stock_symbol_all)\n",
    "\n",
    "# print(stock_name_all)\n",
    "\n",
    "# print(stock_price_all)\n",
    "\n",
    "# print(stock_volume_all)\n",
    "\n",
    "# print(stock_change_all)"
   ]
  },
  {
   "cell_type": "code",
   "execution_count": null,
   "metadata": {},
   "outputs": [],
   "source": [
    "symbol =[]\n",
    "for stock in stock_symbol_all:\n",
    "    #print(stock.text)\n",
    "    symbol_list = symbol.append(stock.text)\n",
    "    #print(symbol)"
   ]
  },
  {
   "cell_type": "code",
   "execution_count": null,
   "metadata": {},
   "outputs": [],
   "source": [
    "price =[]\n",
    "for stock in stock_price_all:\n",
    "    #print(stock.text)\n",
    "    price_list = price.append(stock.text)\n",
    "    #print(price)"
   ]
  },
  {
   "cell_type": "code",
   "execution_count": null,
   "metadata": {},
   "outputs": [],
   "source": [
    "volume = []   \n",
    "for vol in stock_volume_all:\n",
    "    #print(vol.text)\n",
    "    volume_list = volume.append(vol.text)\n",
    "    #print(volume)"
   ]
  },
  {
   "cell_type": "code",
   "execution_count": null,
   "metadata": {},
   "outputs": [],
   "source": [
    "name = []   \n",
    "for names in stock_name_all:\n",
    "    #print(names.text)\n",
    "    names_list = name.append(names.text)\n",
    "    #print(name)"
   ]
  },
  {
   "cell_type": "code",
   "execution_count": null,
   "metadata": {},
   "outputs": [],
   "source": [
    "change = []   \n",
    "for names in stock_change_all:\n",
    "    #print(names.text)\n",
    "    change_list = change.append(names.text)\n",
    "    #print(change)"
   ]
  },
  {
   "cell_type": "code",
   "execution_count": null,
   "metadata": {},
   "outputs": [],
   "source": [
    "# Convert to Pandas dataframe and export in csv\n",
    "df = pd.DataFrame({'stock_name':name, 'stock_symbol':symbol,'stock_price':price, 'stock_volume':volume}) \n",
    "df"
   ]
  },
  {
   "cell_type": "code",
   "execution_count": null,
   "metadata": {},
   "outputs": [],
   "source": [
    "# Importing the dataframe into mongodb\n",
    "\n",
    "data = df.to_dict(orient='records')  # Here's our added param..\n",
    "\n",
    "collection.insert_many(data)"
   ]
  },
  {
   "cell_type": "code",
   "execution_count": null,
   "metadata": {},
   "outputs": [],
   "source": [
    "# >>> collection.insert_many(df.to_dict('records')) # you need to pass the 'records' as argument in order to get a list of dict.\n"
   ]
  },
  {
   "cell_type": "code",
   "execution_count": null,
   "metadata": {},
   "outputs": [],
   "source": [
    "df.to_csv('stocks_mid_cap.csv', index=False, encoding='utf-8')"
   ]
  }
 ],
 "metadata": {
  "kernelspec": {
   "display_name": "Python 3",
   "language": "python",
   "name": "python3"
  },
  "language_info": {
   "codemirror_mode": {
    "name": "ipython",
    "version": 3
   },
   "file_extension": ".py",
   "mimetype": "text/x-python",
   "name": "python",
   "nbconvert_exporter": "python",
   "pygments_lexer": "ipython3",
   "version": "3.7.3"
  }
 },
 "nbformat": 4,
 "nbformat_minor": 4
}
